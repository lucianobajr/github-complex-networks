{
 "cells": [
  {
   "cell_type": "code",
   "execution_count": null,
   "metadata": {},
   "outputs": [],
   "source": [
    "import pandas as pd\n",
    "import networkx as nx"
   ]
  },
  {
   "cell_type": "code",
   "execution_count": null,
   "metadata": {},
   "outputs": [],
   "source": [
    "df = pd.read_csv('../resources/data/random_users_data_2.csv', encoding='utf-8')"
   ]
  },
  {
   "cell_type": "code",
   "execution_count": null,
   "metadata": {},
   "outputs": [],
   "source": [
    "df"
   ]
  },
  {
   "cell_type": "code",
   "execution_count": null,
   "metadata": {},
   "outputs": [],
   "source": [
    "# Crie um grafo direcionado no NetworkX\n",
    "G = nx.DiGraph()\n",
    "\n",
    "# Adicione nós para os usuários\n",
    "for _, row in df.iterrows():\n",
    "    G.add_node(row[\"Nome de usuário\"])\n",
    "    \n",
    "    # Adicione as relações de seguindo (following)\n",
    "    following_users = str(row[\"Following Users\"]).split(\", \")\n",
    "    for following_user in following_users:\n",
    "        if following_user.strip():  # Verifique se a string não está vazia\n",
    "            G.add_edge(row[\"Nome de usuário\"], following_user)\n",
    "        \n",
    "    # Adicione as relações de seguidores (followers)\n",
    "    followers_users = str(row[\"Followers Users\"]).split(\", \")\n",
    "    for follower_user in followers_users:\n",
    "        if follower_user.strip():  # Verifique se a string não está vazia\n",
    "            G.add_edge(follower_user, row[\"Nome de usuário\"])"
   ]
  },
  {
   "cell_type": "code",
   "execution_count": null,
   "metadata": {},
   "outputs": [],
   "source": [
    "nx.write_gml(G, \"graph.gml\")"
   ]
  },
  {
   "cell_type": "code",
   "execution_count": null,
   "metadata": {},
   "outputs": [],
   "source": [
    "num_nodes = G.number_of_nodes()\n",
    "num_edges = G.number_of_edges()"
   ]
  },
  {
   "cell_type": "code",
   "execution_count": null,
   "metadata": {},
   "outputs": [],
   "source": [
    "import matplotlib.pyplot as plt"
   ]
  },
  {
   "cell_type": "code",
   "execution_count": null,
   "metadata": {},
   "outputs": [],
   "source": [
    "# d) Coeficiente de Clusterização\n",
    "cluster_coefficients = nx.clustering(G)\n",
    "average_cluster_coefficient = sum(cluster_coefficients.values()) / len(cluster_coefficients)\n",
    "print(f'Coeficiente de Clusterização Global: {average_cluster_coefficient:.2f}')\n"
   ]
  },
  {
   "cell_type": "code",
   "execution_count": null,
   "metadata": {},
   "outputs": [],
   "source": [
    "# Calcular o diâmetro em cada componente fortemente conectado\n",
    "strongly_connected_components = list(nx.strongly_connected_components(G))\n",
    "diameters = []\n",
    "for component in strongly_connected_components:\n",
    "    subgraph = G.subgraph(component)\n",
    "    if subgraph.number_of_nodes() > 1:\n",
    "        diameter = nx.diameter(subgraph)\n",
    "        diameters.append(diameter)\n",
    "    else:\n",
    "        diameters.append(0)\n",
    "\n",
    "print(f'Diâmetros dos componentes fortemente conectados: {diameters}')\n"
   ]
  },
  {
   "cell_type": "code",
   "execution_count": null,
   "metadata": {},
   "outputs": [],
   "source": [
    "# Calcular os graus dos nodos\n",
    "degrees = dict(G.degree())  # Dicionário com os graus dos nodos\n",
    "\n",
    "# Plotar a distribuição de grau com nodos\n",
    "plt.figure(figsize=(12, 6))\n",
    "plt.hist(list(degrees.values()), bins=50, density=True, alpha=0.7, color='b')\n",
    "plt.xlabel('Grau dos Nodos')\n",
    "plt.ylabel('Densidade')\n",
    "plt.title('Distribuição de Grau dos Nodos')\n",
    "plt.show()"
   ]
  },
  {
   "cell_type": "code",
   "execution_count": null,
   "metadata": {},
   "outputs": [],
   "source": [
    "import numpy as np"
   ]
  },
  {
   "cell_type": "code",
   "execution_count": null,
   "metadata": {},
   "outputs": [],
   "source": [
    "# Calcule a distribuição de grau em escala log-log\n",
    "log_degrees = np.log(degrees)\n",
    "log_counts = np.log([degrees.count(degree) for degree in degrees])\n",
    "\n",
    "# Ajuste uma reta (regressão linear) para os dados log-log\n",
    "coefficients = np.polyfit(log_degrees, log_counts, 1)\n",
    "\n",
    "# O coeficiente alfa é o coeficiente angular da reta de melhor ajuste\n",
    "alfa = -coefficients[0]\n",
    "\n",
    "print(f'Coeficiente alfa estimado: {alfa}')\n"
   ]
  },
  {
   "cell_type": "code",
   "execution_count": null,
   "metadata": {},
   "outputs": [],
   "source": [
    "# Calcule o grau médio do grafo\n",
    "average_degree = sum(degrees) / len(degrees)\n",
    "print(f'Grau médio do grafo: {average_degree}')"
   ]
  },
  {
   "cell_type": "code",
   "execution_count": null,
   "metadata": {},
   "outputs": [],
   "source": [
    "# Layout do grafo com layout fruchterman_reingold\n",
    "pos = nx.spring_layout(G, k=0.2)\n",
    "\n",
    "# Plote o grafo\n",
    "plt.figure(figsize=(16, 16))\n",
    "\n",
    "# Desenhe os rótulos dos nós\n",
    "nx.draw_networkx_labels(G, pos, font_color='black', font_size=8)\n",
    "\n",
    "# Ajuste o tamanho dos nós\n",
    "node_size = 50\n",
    "\n",
    "# Desenhe o grafo\n",
    "nx.draw(G, pos=pos, node_size=node_size, with_labels=False, alpha=0.6, node_color='blue', edge_color='gray')\n",
    "\n",
    "plt.title(\"Grafo de Relações do GitHub\")\n",
    "plt.show()\n"
   ]
  }
 ],
 "metadata": {
  "kernelspec": {
   "display_name": "Python 3",
   "language": "python",
   "name": "python3"
  },
  "language_info": {
   "codemirror_mode": {
    "name": "ipython",
    "version": 3
   },
   "file_extension": ".py",
   "mimetype": "text/x-python",
   "name": "python",
   "nbconvert_exporter": "python",
   "pygments_lexer": "ipython3",
   "version": "3.10.12"
  },
  "orig_nbformat": 4
 },
 "nbformat": 4,
 "nbformat_minor": 2
}
